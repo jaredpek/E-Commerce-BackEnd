{
 "cells": [
  {
   "cell_type": "code",
   "execution_count": 1,
   "metadata": {},
   "outputs": [],
   "source": [
    "import requests\n",
    "\n",
    "base_url = 'http://127.0.0.1:8000/api/'\n",
    "\n",
    "user_account_url = base_url + 'user_account/'\n",
    "login_url = user_account_url + 'auth/login/'\n",
    "logout_url = user_account_url + 'auth/logout/'\n",
    "register_url = user_account_url + 'auth/register/'\n",
    "details_url = user_account_url + 'details/'\n",
    "\n",
    "restaurant_url = base_url + 'restaurant/'\n",
    "restaurant_types_url = restaurant_url + 'types/'\n",
    "restaurant_details_url = restaurant_url + 'details/'\n",
    "update_restaurant_url = restaurant_url + 'update/'\n",
    "\n",
    "item_url = base_url + 'item/'\n",
    "item_types_url = item_url + 'types/'\n",
    "item_details_url = item_url + 'details/'\n",
    "update_items_url = item_url + 'update/'\n",
    "\n",
    "order_url = base_url + 'order/'\n",
    "order_details_url = order_url + 'details/'\n",
    "update_order_details_url = order_url + 'details/update/'\n",
    "destroy_order_details_url = order_url + 'details/destroy/'\n",
    "order_items_url = order_url + 'items/'\n",
    "transactions_url = order_url + 'transactions/'\n"
   ]
  },
  {
   "attachments": {},
   "cell_type": "markdown",
   "metadata": {},
   "source": [
    "Register Account"
   ]
  },
  {
   "cell_type": "code",
   "execution_count": 2,
   "metadata": {},
   "outputs": [],
   "source": [
    "# register_username = 'user2'\n",
    "# register_password = 'password2'\n",
    "# register_email = f'{register_username}@email.com'\n",
    "# register_data = {\n",
    "#     'username': register_username,\n",
    "#     'password1': register_password,\n",
    "#     'password2': register_password,\n",
    "#     'email': register_email,\n",
    "# }\n",
    "\n",
    "# register_response = requests.post(url=register_url, data=register_data)\n",
    "# register_response"
   ]
  },
  {
   "attachments": {},
   "cell_type": "markdown",
   "metadata": {},
   "source": [
    "Login Acount"
   ]
  },
  {
   "cell_type": "code",
   "execution_count": 3,
   "metadata": {},
   "outputs": [
    {
     "data": {
      "text/plain": [
       "'aeea8f362103927a3f3400515ec43be569cc52c5'"
      ]
     },
     "execution_count": 3,
     "metadata": {},
     "output_type": "execute_result"
    }
   ],
   "source": [
    "login_data = {\n",
    "    'username': 'admin',\n",
    "    'password': 'admin',\n",
    "}\n",
    "\n",
    "login_response = requests.post(url=login_url, data=login_data).json()\n",
    "user_token = login_response['key']\n",
    "\n",
    "headers = {'Authorization': f'Token {user_token}'}\n",
    "user_token"
   ]
  },
  {
   "attachments": {},
   "cell_type": "markdown",
   "metadata": {},
   "source": [
    "Get Account Details"
   ]
  },
  {
   "cell_type": "code",
   "execution_count": 4,
   "metadata": {},
   "outputs": [
    {
     "data": {
      "text/plain": [
       "{'count': 1,\n",
       " 'next': None,\n",
       " 'previous': None,\n",
       " 'results': [{'id': 1,\n",
       "   'username': 'admin',\n",
       "   'first_name': 'admin_first',\n",
       "   'last_name': 'admin_last',\n",
       "   'email': 'admin_email@email.com',\n",
       "   'profile': {'mobile_number': '+6586970132',\n",
       "    'date_of_birth': '2001-01-01',\n",
       "    'address': '25 Holland Rise',\n",
       "    'postal_code': '279220',\n",
       "    'date_joined': '2023-04-30'}}]}"
      ]
     },
     "execution_count": 4,
     "metadata": {},
     "output_type": "execute_result"
    }
   ],
   "source": [
    "get_details_response = requests.get(url=details_url, headers=headers).json()\n",
    "get_details_response"
   ]
  },
  {
   "attachments": {},
   "cell_type": "markdown",
   "metadata": {},
   "source": [
    "Update Account"
   ]
  },
  {
   "cell_type": "code",
   "execution_count": 5,
   "metadata": {},
   "outputs": [],
   "source": [
    "# update_details_data = {\n",
    "#     'first_name': 'admin_first',\n",
    "#     'last_name': 'admin_last',\n",
    "#     'email': 'admin_email@email.com',\n",
    "#     'mobile_number': '+6586970132',\n",
    "#     'address': '25 Holland Rise',\n",
    "#     'postal_code': '279220',\n",
    "#     'date_of_birth': '2001-01-01',\n",
    "# }\n",
    "# update_details_response = requests.post(url=details_url, data=update_details_data, headers=headers).json()\n",
    "# update_details_response"
   ]
  },
  {
   "attachments": {},
   "cell_type": "markdown",
   "metadata": {},
   "source": [
    "Create Restaurant Types"
   ]
  },
  {
   "cell_type": "code",
   "execution_count": 6,
   "metadata": {},
   "outputs": [],
   "source": [
    "# create_restaurant_types_data = {\n",
    "#     'name': 'pizza'\n",
    "# }\n",
    "# create_restaurant_types_response = requests.post(url=restaurant_types_url, data=create_restaurant_types_data, headers=headers).json()\n",
    "# create_restaurant_types_response"
   ]
  },
  {
   "attachments": {},
   "cell_type": "markdown",
   "metadata": {},
   "source": [
    "Get Restaurant Types"
   ]
  },
  {
   "cell_type": "code",
   "execution_count": 7,
   "metadata": {},
   "outputs": [
    {
     "data": {
      "text/plain": [
       "{'count': 3,\n",
       " 'next': None,\n",
       " 'previous': None,\n",
       " 'results': [{'id': 1, 'name': 'chicken'},\n",
       "  {'id': 2, 'name': 'burger'},\n",
       "  {'id': 3, 'name': 'pizza'}]}"
      ]
     },
     "execution_count": 7,
     "metadata": {},
     "output_type": "execute_result"
    }
   ],
   "source": [
    "get_restaurant_types_response = requests.get(url=restaurant_types_url, headers=headers).json()\n",
    "get_restaurant_types_response"
   ]
  },
  {
   "attachments": {},
   "cell_type": "markdown",
   "metadata": {},
   "source": [
    "Create New Restaurant"
   ]
  },
  {
   "cell_type": "code",
   "execution_count": 8,
   "metadata": {},
   "outputs": [],
   "source": [
    "# create_restaurants_data = {\n",
    "#     'name': 'Pizza Restaurant',\n",
    "#     'delivery_charge': 0.6,\n",
    "#     'address': '4 Tampines Central 5, #02 - 02 Tampines Mall',\n",
    "#     'postal_code': '529510',\n",
    "#     'restaurant_type': [3],\n",
    "# }\n",
    "# create_restaurants_response = requests.post(url=restaurant_details_url, data=create_restaurants_data, headers=headers).json()\n",
    "# create_restaurants_response"
   ]
  },
  {
   "attachments": {},
   "cell_type": "markdown",
   "metadata": {},
   "source": [
    "Get Restaurant Details"
   ]
  },
  {
   "cell_type": "code",
   "execution_count": 9,
   "metadata": {},
   "outputs": [
    {
     "data": {
      "text/plain": [
       "{'count': 3,\n",
       " 'next': None,\n",
       " 'previous': None,\n",
       " 'results': [{'id': 1,\n",
       "   'active': True,\n",
       "   'owner': 1,\n",
       "   'restaurant_type': [1],\n",
       "   'restaurant_type_name': ['chicken'],\n",
       "   'name': 'Chicken Restaurant',\n",
       "   'delivery_charge': 0.3,\n",
       "   'address': '988 Upper Serangoon Rd, #01-29 Stars of Kovan',\n",
       "   'postal_code': '534733',\n",
       "   'items': [{'id': 1,\n",
       "     'active': True,\n",
       "     'name': 'Original Fried Chicken',\n",
       "     'restaurant': 1,\n",
       "     'restaurant_name': 'Chicken Restaurant',\n",
       "     'item_type': [4, 5],\n",
       "     'item_type_name': ['fried', 'chicken'],\n",
       "     'price': 5.5},\n",
       "    {'id': 2,\n",
       "     'active': True,\n",
       "     'name': 'Spicy Fried Chicken',\n",
       "     'restaurant': 1,\n",
       "     'restaurant_name': 'Chicken Restaurant',\n",
       "     'item_type': [4, 5, 8],\n",
       "     'item_type_name': ['fried', 'chicken', 'spicy'],\n",
       "     'price': 6.5},\n",
       "    {'id': 3,\n",
       "     'active': True,\n",
       "     'name': 'Soy Fried Chicken',\n",
       "     'restaurant': 1,\n",
       "     'restaurant_name': 'Chicken Restaurant',\n",
       "     'item_type': [4, 5, 9],\n",
       "     'item_type_name': ['fried', 'chicken', 'soy'],\n",
       "     'price': 6.0},\n",
       "    {'id': 8,\n",
       "     'active': True,\n",
       "     'name': 'Coke',\n",
       "     'restaurant': 1,\n",
       "     'restaurant_name': 'Chicken Restaurant',\n",
       "     'item_type': [11, 13],\n",
       "     'item_type_name': ['drink', 'cold'],\n",
       "     'price': 0.5},\n",
       "    {'id': 9,\n",
       "     'active': True,\n",
       "     'name': '100 Plus',\n",
       "     'restaurant': 1,\n",
       "     'restaurant_name': 'Chicken Restaurant',\n",
       "     'item_type': [11, 13],\n",
       "     'item_type_name': ['drink', 'cold'],\n",
       "     'price': 0.6}]},\n",
       "  {'id': 2,\n",
       "   'active': True,\n",
       "   'owner': 1,\n",
       "   'restaurant_type': [2],\n",
       "   'restaurant_type_name': ['burger'],\n",
       "   'name': 'Burger Restaurant',\n",
       "   'delivery_charge': 0.5,\n",
       "   'address': '60 Paya Lebar Rd, #01-68 Paya Lebar Square',\n",
       "   'postal_code': '409051',\n",
       "   'items': [{'id': 4,\n",
       "     'active': True,\n",
       "     'name': 'Beef Burger',\n",
       "     'restaurant': 2,\n",
       "     'restaurant_name': 'Burger Restaurant',\n",
       "     'item_type': [6, 10],\n",
       "     'item_type_name': ['beef', 'burger'],\n",
       "     'price': 7.0},\n",
       "    {'id': 5,\n",
       "     'active': True,\n",
       "     'name': 'Fish Burger',\n",
       "     'restaurant': 2,\n",
       "     'restaurant_name': 'Burger Restaurant',\n",
       "     'item_type': [7, 10],\n",
       "     'item_type_name': ['fish', 'burger'],\n",
       "     'price': 6.0},\n",
       "    {'id': 6,\n",
       "     'active': True,\n",
       "     'name': 'Chicken Burger',\n",
       "     'restaurant': 2,\n",
       "     'restaurant_name': 'Burger Restaurant',\n",
       "     'item_type': [5, 10],\n",
       "     'item_type_name': ['chicken', 'burger'],\n",
       "     'price': 5.0},\n",
       "    {'id': 7,\n",
       "     'active': True,\n",
       "     'name': 'Milo',\n",
       "     'restaurant': 2,\n",
       "     'restaurant_name': 'Burger Restaurant',\n",
       "     'item_type': [11, 12],\n",
       "     'item_type_name': ['drink', 'hot'],\n",
       "     'price': 0.5},\n",
       "    {'id': 10,\n",
       "     'active': True,\n",
       "     'name': 'Fanta Grape',\n",
       "     'restaurant': 2,\n",
       "     'restaurant_name': 'Burger Restaurant',\n",
       "     'item_type': [11, 13],\n",
       "     'item_type_name': ['drink', 'cold'],\n",
       "     'price': 0.55}]},\n",
       "  {'id': 3,\n",
       "   'active': True,\n",
       "   'owner': 1,\n",
       "   'restaurant_type': [3],\n",
       "   'restaurant_type_name': ['pizza'],\n",
       "   'name': 'Pizza Restaurant',\n",
       "   'delivery_charge': 0.6,\n",
       "   'address': '4 Tampines Central 5, #02 - 02 Tampines Mall',\n",
       "   'postal_code': '529510',\n",
       "   'items': [{'id': 11,\n",
       "     'active': True,\n",
       "     'name': 'Fanta Grape',\n",
       "     'restaurant': 3,\n",
       "     'restaurant_name': 'Pizza Restaurant',\n",
       "     'item_type': [11, 13],\n",
       "     'item_type_name': ['drink', 'cold'],\n",
       "     'price': 0.55},\n",
       "    {'id': 12,\n",
       "     'active': True,\n",
       "     'name': 'Tea',\n",
       "     'restaurant': 3,\n",
       "     'restaurant_name': 'Pizza Restaurant',\n",
       "     'item_type': [11, 12],\n",
       "     'item_type_name': ['drink', 'hot'],\n",
       "     'price': 0.6},\n",
       "    {'id': 13,\n",
       "     'active': True,\n",
       "     'name': 'Hawaiian Pizza',\n",
       "     'restaurant': 3,\n",
       "     'restaurant_name': 'Pizza Restaurant',\n",
       "     'item_type': [1, 2, 3, 5],\n",
       "     'item_type_name': ['cheese', 'pizza', 'tomato', 'chicken'],\n",
       "     'price': 7.0},\n",
       "    {'id': 14,\n",
       "     'active': True,\n",
       "     'name': 'Pepperoni Pizza',\n",
       "     'restaurant': 3,\n",
       "     'restaurant_name': 'Pizza Restaurant',\n",
       "     'item_type': [1, 2, 3, 6],\n",
       "     'item_type_name': ['cheese', 'pizza', 'tomato', 'beef'],\n",
       "     'price': 7.5},\n",
       "    {'id': 15,\n",
       "     'active': True,\n",
       "     'name': 'Super Cheesy Pizza',\n",
       "     'restaurant': 3,\n",
       "     'restaurant_name': 'Pizza Restaurant',\n",
       "     'item_type': [1, 2, 3, 5, 6],\n",
       "     'item_type_name': ['cheese', 'pizza', 'tomato', 'chicken', 'beef'],\n",
       "     'price': 9.0}]}]}"
      ]
     },
     "execution_count": 9,
     "metadata": {},
     "output_type": "execute_result"
    }
   ],
   "source": [
    "get_restaurants_params = {\n",
    "    # 'id': 1,\n",
    "    # 'active': True,\n",
    "}\n",
    "get_restaurants_response = requests.get(url=restaurant_details_url, params=get_restaurants_params, headers=headers).json()\n",
    "get_restaurants_response"
   ]
  },
  {
   "attachments": {},
   "cell_type": "markdown",
   "metadata": {},
   "source": [
    "Update Restaurant Details"
   ]
  },
  {
   "cell_type": "code",
   "execution_count": 10,
   "metadata": {},
   "outputs": [],
   "source": [
    "# update_restaurant_id = 1\n",
    "# update_restaurant_data = requests.get(url=restaurant_details_url, params={'id':update_restaurant_id}, headers=headers).json()['results'][0]\n",
    "# update_restaurant_data.update({\n",
    "#     # 'active': True,\n",
    "#     # 'delivery_charge': 0.6,\n",
    "#     'restaurant_type': [1],\n",
    "# })\n",
    "# update_restaurant_response = requests.put(url=update_restaurant_url + f'{update_restaurant_id}/', data=update_restaurant_data, headers=headers).json()\n",
    "# update_restaurant_response"
   ]
  },
  {
   "attachments": {},
   "cell_type": "markdown",
   "metadata": {},
   "source": [
    "Create Item Types"
   ]
  },
  {
   "cell_type": "code",
   "execution_count": 11,
   "metadata": {},
   "outputs": [],
   "source": [
    "# create_item_type_data = {\n",
    "#     'name': 'cold',\n",
    "# }\n",
    "# create_item_type_response = requests.post(url=item_types_url, data=create_item_type_data, headers=headers).json()\n",
    "# create_item_type_response"
   ]
  },
  {
   "attachments": {},
   "cell_type": "markdown",
   "metadata": {},
   "source": [
    "Get Item Types"
   ]
  },
  {
   "cell_type": "code",
   "execution_count": 12,
   "metadata": {},
   "outputs": [
    {
     "data": {
      "text/plain": [
       "{'count': 13,\n",
       " 'next': None,\n",
       " 'previous': None,\n",
       " 'results': [{'id': 1, 'name': 'cheese'},\n",
       "  {'id': 2, 'name': 'pizza'},\n",
       "  {'id': 3, 'name': 'tomato'},\n",
       "  {'id': 4, 'name': 'fried'},\n",
       "  {'id': 5, 'name': 'chicken'},\n",
       "  {'id': 6, 'name': 'beef'},\n",
       "  {'id': 7, 'name': 'fish'},\n",
       "  {'id': 8, 'name': 'spicy'},\n",
       "  {'id': 9, 'name': 'soy'},\n",
       "  {'id': 10, 'name': 'burger'},\n",
       "  {'id': 11, 'name': 'drink'},\n",
       "  {'id': 12, 'name': 'hot'},\n",
       "  {'id': 13, 'name': 'cold'}]}"
      ]
     },
     "execution_count": 12,
     "metadata": {},
     "output_type": "execute_result"
    }
   ],
   "source": [
    "item_types_response = requests.get(url=item_types_url, headers=headers).json()\n",
    "item_types_response"
   ]
  },
  {
   "attachments": {},
   "cell_type": "markdown",
   "metadata": {},
   "source": [
    "Get Item Details"
   ]
  },
  {
   "cell_type": "code",
   "execution_count": 13,
   "metadata": {},
   "outputs": [
    {
     "data": {
      "text/plain": [
       "{'count': 5,\n",
       " 'next': None,\n",
       " 'previous': None,\n",
       " 'results': [{'id': 1,\n",
       "   'active': True,\n",
       "   'name': 'Original Fried Chicken',\n",
       "   'restaurant': 1,\n",
       "   'restaurant_name': 'Chicken Restaurant',\n",
       "   'item_type': [4, 5],\n",
       "   'item_type_name': ['fried', 'chicken'],\n",
       "   'price': 5.5},\n",
       "  {'id': 2,\n",
       "   'active': True,\n",
       "   'name': 'Spicy Fried Chicken',\n",
       "   'restaurant': 1,\n",
       "   'restaurant_name': 'Chicken Restaurant',\n",
       "   'item_type': [4, 5, 8],\n",
       "   'item_type_name': ['fried', 'chicken', 'spicy'],\n",
       "   'price': 6.5},\n",
       "  {'id': 3,\n",
       "   'active': True,\n",
       "   'name': 'Soy Fried Chicken',\n",
       "   'restaurant': 1,\n",
       "   'restaurant_name': 'Chicken Restaurant',\n",
       "   'item_type': [4, 5, 9],\n",
       "   'item_type_name': ['fried', 'chicken', 'soy'],\n",
       "   'price': 6.0},\n",
       "  {'id': 8,\n",
       "   'active': True,\n",
       "   'name': 'Coke',\n",
       "   'restaurant': 1,\n",
       "   'restaurant_name': 'Chicken Restaurant',\n",
       "   'item_type': [11, 13],\n",
       "   'item_type_name': ['drink', 'cold'],\n",
       "   'price': 0.5},\n",
       "  {'id': 9,\n",
       "   'active': True,\n",
       "   'name': '100 Plus',\n",
       "   'restaurant': 1,\n",
       "   'restaurant_name': 'Chicken Restaurant',\n",
       "   'item_type': [11, 13],\n",
       "   'item_type_name': ['drink', 'cold'],\n",
       "   'price': 0.6}]}"
      ]
     },
     "execution_count": 13,
     "metadata": {},
     "output_type": "execute_result"
    }
   ],
   "source": [
    "item_details_params = {\n",
    "    # 'id': 1,\n",
    "    'restaurant': 1,\n",
    "}\n",
    "item_details_response = requests.get(url=item_details_url, params=item_details_params, headers=headers).json()\n",
    "item_details_response"
   ]
  },
  {
   "attachments": {},
   "cell_type": "markdown",
   "metadata": {},
   "source": [
    "Create New Item"
   ]
  },
  {
   "cell_type": "code",
   "execution_count": 14,
   "metadata": {},
   "outputs": [],
   "source": [
    "# create_item_data = {\n",
    "#     'name': 'Super Cheesy Pizza',\n",
    "#     'restaurant': 3,\n",
    "#     'item_type': [1, 2, 3, 5, 6],\n",
    "#     'price': 9\n",
    "# }\n",
    "# create_item_response = requests.post(url=item_details_url, data=create_item_data, headers=headers).json()\n",
    "# create_item_response"
   ]
  },
  {
   "attachments": {},
   "cell_type": "markdown",
   "metadata": {},
   "source": [
    "Update Item Details"
   ]
  },
  {
   "cell_type": "code",
   "execution_count": 15,
   "metadata": {},
   "outputs": [],
   "source": [
    "# item_id = 14\n",
    "# update_item_data = requests.get(url=item_details_url, params={'id': item_id}, headers=headers).json()['results'][0]\n",
    "# update_item_data.update({\n",
    "#     # 'name': 'Fish Burger',\n",
    "#     # 'item_type': [7, 10],\n",
    "#     'price': 7.5\n",
    "# })\n",
    "# update_item_response = requests.put(url=update_items_url + f'{item_id}/', data=update_item_data, headers=headers).json()\n",
    "# update_item_response"
   ]
  },
  {
   "attachments": {},
   "cell_type": "markdown",
   "metadata": {},
   "source": [
    "Get Order Details"
   ]
  },
  {
   "cell_type": "code",
   "execution_count": 20,
   "metadata": {},
   "outputs": [
    {
     "data": {
      "text/plain": [
       "{'count': 1,\n",
       " 'next': None,\n",
       " 'previous': None,\n",
       " 'results': [{'id': 3,\n",
       "   'user': 1,\n",
       "   'username': 'admin',\n",
       "   'restaurant': 3,\n",
       "   'restaurant_name': 'Pizza Restaurant',\n",
       "   'items': [{'id': 1,\n",
       "     'order': 3,\n",
       "     'item': 11,\n",
       "     'item_name': 'Fanta Grape',\n",
       "     'price': 0.55,\n",
       "     'quantity': 5,\n",
       "     'total': 2.75},\n",
       "    {'id': 2,\n",
       "     'order': 3,\n",
       "     'item': 13,\n",
       "     'item_name': 'Hawaiian Pizza',\n",
       "     'price': 7.0,\n",
       "     'quantity': 7,\n",
       "     'total': 49.0},\n",
       "    {'id': 3,\n",
       "     'order': 3,\n",
       "     'item': 15,\n",
       "     'item_name': 'Super Cheesy Pizza',\n",
       "     'price': 9.0,\n",
       "     'quantity': 9,\n",
       "     'total': 81.0}],\n",
       "   'subtotal': 132.75}]}"
      ]
     },
     "execution_count": 20,
     "metadata": {},
     "output_type": "execute_result"
    }
   ],
   "source": [
    "get_orders_params = {\n",
    "    # 'id': 3,\n",
    "    # 'user': 1,\n",
    "    # 'restaurant': 2,\n",
    "}\n",
    "get_orders_response = requests.get(url=order_details_url, params=get_orders_params, headers=headers).json()\n",
    "get_orders_response"
   ]
  },
  {
   "attachments": {},
   "cell_type": "markdown",
   "metadata": {},
   "source": [
    "Create New Order"
   ]
  },
  {
   "cell_type": "code",
   "execution_count": 17,
   "metadata": {},
   "outputs": [],
   "source": [
    "# create_order_data = {\n",
    "#     'user': 1,\n",
    "#     'restaurant': 3,\n",
    "# }\n",
    "# create_order_response = requests.post(url=order_details_url, data=create_order_data, headers=headers).json()\n",
    "# create_order_response"
   ]
  },
  {
   "attachments": {},
   "cell_type": "markdown",
   "metadata": {},
   "source": [
    "Update Order"
   ]
  },
  {
   "cell_type": "code",
   "execution_count": 62,
   "metadata": {},
   "outputs": [
    {
     "data": {
      "text/plain": [
       "{'Success': 'Order status updated successfully'}"
      ]
     },
     "execution_count": 62,
     "metadata": {},
     "output_type": "execute_result"
    }
   ],
   "source": [
    "update_order_data = {\n",
    "    'id': 1,\n",
    "    'status': 1,\n",
    "    # 'to_address': '108C Canberra Walk',\n",
    "    # 'to_postal_code': '753108',\n",
    "}\n",
    "update_order_response = requests.post(url=update_order_details_url, data=update_order_data, headers=headers).json()\n",
    "update_order_response"
   ]
  },
  {
   "attachments": {},
   "cell_type": "markdown",
   "metadata": {},
   "source": [
    "Delete Order"
   ]
  },
  {
   "cell_type": "code",
   "execution_count": null,
   "metadata": {},
   "outputs": [],
   "source": [
    "# delete_order_response = requests.delete(url=update_order_details_url + '5/', headers=headers).json()\n",
    "# delete_order_response"
   ]
  },
  {
   "attachments": {},
   "cell_type": "markdown",
   "metadata": {},
   "source": [
    "Get Order Items"
   ]
  },
  {
   "cell_type": "code",
   "execution_count": null,
   "metadata": {},
   "outputs": [],
   "source": [
    "get_order_items_params = {\n",
    "    'order': 3,\n",
    "    # 'item': 1,\n",
    "}\n",
    "get_order_items_response = requests.get(url=order_items_url, params=get_order_items_params, headers=headers).json()\n",
    "get_order_items_response"
   ]
  },
  {
   "attachments": {},
   "cell_type": "markdown",
   "metadata": {},
   "source": [
    "Manage Order Items"
   ]
  },
  {
   "cell_type": "code",
   "execution_count": null,
   "metadata": {},
   "outputs": [],
   "source": [
    "# manage_order_items_data = {\n",
    "#     'order': 3,\n",
    "#     'item': 2,\n",
    "#     'quantity': 9,\n",
    "# }\n",
    "# manage_order_items_response = requests.post(url=order_items_url, data=manage_order_items_data, headers=headers).json()\n",
    "# manage_order_items_response"
   ]
  },
  {
   "attachments": {},
   "cell_type": "markdown",
   "metadata": {},
   "source": [
    "Get Transactions"
   ]
  },
  {
   "cell_type": "code",
   "execution_count": 61,
   "metadata": {},
   "outputs": [
    {
     "data": {
      "text/plain": [
       "{'count': 3,\n",
       " 'next': None,\n",
       " 'previous': None,\n",
       " 'results': [{'id': 1,\n",
       "   'order': 3,\n",
       "   'user': 1,\n",
       "   'username': 'admin',\n",
       "   'date': '2023-04-30',\n",
       "   'restaurant': 3,\n",
       "   'restaurant_name': 'Pizza Restaurant',\n",
       "   'items': ['admin | Pizza Restaurant | Fanta Grape | 5 | 2.75',\n",
       "    'admin | Pizza Restaurant | Hawaiian Pizza | 7 | 49.0',\n",
       "    'admin | Pizza Restaurant | Super Cheesy Pizza | 9 | 81.0'],\n",
       "   'from_address': '4 Tampines Central 5, #02 - 02 Tampines Mall',\n",
       "   'from_postal_code': '529510',\n",
       "   'to_address': '25 Holland Rise',\n",
       "   'to_postal_code': '279220',\n",
       "   'subtotal': 132.75,\n",
       "   'delivery': 10.91,\n",
       "   'total': 143.66},\n",
       "  {'id': 3,\n",
       "   'order': 2,\n",
       "   'user': 1,\n",
       "   'username': 'admin',\n",
       "   'date': '2023-04-30',\n",
       "   'restaurant': 1,\n",
       "   'restaurant_name': 'Chicken Restaurant',\n",
       "   'items': ['admin | Chicken Restaurant | Original Fried Chicken | 9 | 49.5',\n",
       "    'admin | Chicken Restaurant | Soy Fried Chicken | 4 | 24.0',\n",
       "    'admin | Chicken Restaurant | 100 Plus | 7 | 4.2'],\n",
       "   'from_address': '988 Upper Serangoon Rd, #01-29 Stars of Kovan',\n",
       "   'from_postal_code': '534733',\n",
       "   'to_address': '108C Canberra Walk',\n",
       "   'to_postal_code': '753108',\n",
       "   'subtotal': 77.7,\n",
       "   'delivery': 4.82,\n",
       "   'total': 82.52},\n",
       "  {'id': 4,\n",
       "   'order': 1,\n",
       "   'user': 1,\n",
       "   'username': 'admin',\n",
       "   'date': '2023-04-30',\n",
       "   'restaurant': 2,\n",
       "   'restaurant_name': 'Burger Restaurant',\n",
       "   'items': ['admin | Burger Restaurant | Fish Burger | 7 | 42.0',\n",
       "    'admin | Burger Restaurant | Chicken Burger | 9 | 45.0'],\n",
       "   'from_address': '60 Paya Lebar Rd, #01-68 Paya Lebar Square',\n",
       "   'from_postal_code': '409051',\n",
       "   'to_address': '108C Canberra Walk',\n",
       "   'to_postal_code': '753108',\n",
       "   'subtotal': 87.0,\n",
       "   'delivery': 10.32,\n",
       "   'total': 97.32}]}"
      ]
     },
     "execution_count": 61,
     "metadata": {},
     "output_type": "execute_result"
    }
   ],
   "source": [
    "get_transactions_response = requests.get(url=transactions_url, headers=headers).json()\n",
    "get_transactions_response"
   ]
  }
 ],
 "metadata": {
  "kernelspec": {
   "display_name": "venv",
   "language": "python",
   "name": "python3"
  },
  "language_info": {
   "codemirror_mode": {
    "name": "ipython",
    "version": 3
   },
   "file_extension": ".py",
   "mimetype": "text/x-python",
   "name": "python",
   "nbconvert_exporter": "python",
   "pygments_lexer": "ipython3",
   "version": "3.10.5"
  },
  "orig_nbformat": 4
 },
 "nbformat": 4,
 "nbformat_minor": 2
}
