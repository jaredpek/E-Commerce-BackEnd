{
 "cells": [
  {
   "cell_type": "code",
   "execution_count": null,
   "metadata": {},
   "outputs": [],
   "source": [
    "import requests\n",
    "\n",
    "base_url = 'http://127.0.0.1:8000/api/'\n",
    "\n",
    "user_account_url = base_url + 'user_account/'\n",
    "login_url = user_account_url + 'auth/login/'\n",
    "logout_url = user_account_url + 'auth/logout/'\n",
    "register_url = user_account_url + 'auth/register/'\n",
    "details_url = user_account_url + 'details/'\n",
    "\n",
    "restaurant_url = base_url + 'restaurant/'\n",
    "restaurant_details_url = restaurant_url + 'details/'\n",
    "update_restaurant_url = restaurant_url + 'update/'\n",
    "\n",
    "item_url = base_url + 'item/'\n",
    "\n",
    "order_url = base_url + 'order/'\n"
   ]
  },
  {
   "attachments": {},
   "cell_type": "markdown",
   "metadata": {},
   "source": [
    "Register Account"
   ]
  },
  {
   "cell_type": "code",
   "execution_count": null,
   "metadata": {},
   "outputs": [],
   "source": [
    "# register_username = 'user2'\n",
    "# register_password = 'password2'\n",
    "# register_email = f'{register_username}@email.com'\n",
    "# register_data = {\n",
    "#     'username': register_username,\n",
    "#     'password1': register_password,\n",
    "#     'password2': register_password,\n",
    "#     'email': register_email,\n",
    "# }\n",
    "\n",
    "# register_response = requests.post(url=register_url, data=register_data)\n",
    "# register_response"
   ]
  },
  {
   "attachments": {},
   "cell_type": "markdown",
   "metadata": {},
   "source": [
    "Login Acount"
   ]
  },
  {
   "cell_type": "code",
   "execution_count": null,
   "metadata": {},
   "outputs": [],
   "source": [
    "login_data = {\n",
    "    'username': 'admin',\n",
    "    'password': 'admin',\n",
    "}\n",
    "\n",
    "login_response = requests.post(url=login_url, data=login_data).json()\n",
    "user_token = login_response['key']\n",
    "\n",
    "headers = {'Authorization': f'Token {user_token}'}\n",
    "user_token"
   ]
  },
  {
   "attachments": {},
   "cell_type": "markdown",
   "metadata": {},
   "source": [
    "Get Account Details"
   ]
  },
  {
   "cell_type": "code",
   "execution_count": null,
   "metadata": {},
   "outputs": [],
   "source": [
    "get_details_response = requests.get(url=details_url, headers=headers).json()\n",
    "get_details_response"
   ]
  },
  {
   "attachments": {},
   "cell_type": "markdown",
   "metadata": {},
   "source": [
    "Update Account"
   ]
  },
  {
   "cell_type": "code",
   "execution_count": null,
   "metadata": {},
   "outputs": [],
   "source": [
    "# update_details_data = {\n",
    "#     'first_name': 'admin_first',\n",
    "#     'last_name': 'admin_last',\n",
    "#     'email': 'admin_email@email.com',\n",
    "#     'mobile_number': '+90987876',\n",
    "#     'date_of_birth': '2000-01-01',\n",
    "# }\n",
    "# update_details_response = requests.post(url=details_url, data=update_details_data, headers=headers).json()\n",
    "# update_details_response"
   ]
  },
  {
   "attachments": {},
   "cell_type": "markdown",
   "metadata": {},
   "source": [
    "Create New Restaurant"
   ]
  },
  {
   "cell_type": "code",
   "execution_count": null,
   "metadata": {},
   "outputs": [],
   "source": [
    "# create_restaurants_data = {\n",
    "#     'name': 'Fried Rice Restaurant',\n",
    "#     'delivery_charge': 0.4,\n",
    "#     'address': '38A Beo Cres, #01-71',\n",
    "#     'postal_code': '169982',\n",
    "# }\n",
    "# create_restaurants_response = requests.post(url=restaurant_details_url, data=create_restaurants_data, headers=headers).json()\n",
    "# create_restaurants_response"
   ]
  },
  {
   "attachments": {},
   "cell_type": "markdown",
   "metadata": {},
   "source": [
    "Get Restaurant Details"
   ]
  },
  {
   "cell_type": "code",
   "execution_count": null,
   "metadata": {},
   "outputs": [],
   "source": [
    "get_restaurants_params = {\n",
    "    'id': 1,\n",
    "    # 'active': True,\n",
    "}\n",
    "get_restaurants_response = requests.get(url=restaurant_details_url, params=get_restaurants_params, headers=headers).json()\n",
    "get_restaurants_response"
   ]
  },
  {
   "attachments": {},
   "cell_type": "markdown",
   "metadata": {},
   "source": [
    "Update Restaurant Details"
   ]
  },
  {
   "cell_type": "code",
   "execution_count": null,
   "metadata": {},
   "outputs": [],
   "source": [
    "update_restaurant_response = requests.post(url=update_restaurant_url + '1/', headers=headers).json()\n",
    "update_restaurant_response"
   ]
  }
 ],
 "metadata": {
  "kernelspec": {
   "display_name": "venv",
   "language": "python",
   "name": "python3"
  },
  "language_info": {
   "codemirror_mode": {
    "name": "ipython",
    "version": 3
   },
   "file_extension": ".py",
   "mimetype": "text/x-python",
   "name": "python",
   "nbconvert_exporter": "python",
   "pygments_lexer": "ipython3",
   "version": "3.10.5"
  },
  "orig_nbformat": 4
 },
 "nbformat": 4,
 "nbformat_minor": 2
}
