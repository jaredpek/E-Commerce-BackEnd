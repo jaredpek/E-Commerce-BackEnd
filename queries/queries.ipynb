{
 "cells": [
  {
   "cell_type": "code",
   "execution_count": 1,
   "metadata": {},
   "outputs": [],
   "source": [
    "import requests\n",
    "\n",
    "base_url = 'http://127.0.0.1:8000/api/'\n",
    "\n",
    "user_account_url = base_url + 'user_account/'\n",
    "login_url = user_account_url + 'auth/login/'\n",
    "logout_url = user_account_url + 'auth/logout/'\n",
    "register_url = user_account_url + 'auth/register/'\n",
    "details_url = user_account_url + 'details/'\n",
    "\n",
    "restaurant_url = base_url + 'restaurant/'\n",
    "restaurant_types_url = restaurant_url + 'types/'\n",
    "restaurant_details_url = restaurant_url + 'details/'\n",
    "update_restaurant_url = restaurant_url + 'update/'\n",
    "\n",
    "item_url = base_url + 'item/'\n",
    "item_types_url = item_url + 'types/'\n",
    "item_details_url = item_url + 'details/'\n",
    "update_items_url = item_url + 'update/'\n",
    "\n",
    "order_url = base_url + 'order/'\n",
    "order_details_url = order_url + 'details/'\n",
    "order_items_url = order_url + 'items/'\n"
   ]
  },
  {
   "attachments": {},
   "cell_type": "markdown",
   "metadata": {},
   "source": [
    "Register Account"
   ]
  },
  {
   "cell_type": "code",
   "execution_count": 2,
   "metadata": {},
   "outputs": [],
   "source": [
    "# register_username = 'user2'\n",
    "# register_password = 'password2'\n",
    "# register_email = f'{register_username}@email.com'\n",
    "# register_data = {\n",
    "#     'username': register_username,\n",
    "#     'password1': register_password,\n",
    "#     'password2': register_password,\n",
    "#     'email': register_email,\n",
    "# }\n",
    "\n",
    "# register_response = requests.post(url=register_url, data=register_data)\n",
    "# register_response"
   ]
  },
  {
   "attachments": {},
   "cell_type": "markdown",
   "metadata": {},
   "source": [
    "Login Acount"
   ]
  },
  {
   "cell_type": "code",
   "execution_count": 3,
   "metadata": {},
   "outputs": [
    {
     "data": {
      "text/plain": [
       "'5c754a790399ff554e411958e211ad84b1379e15'"
      ]
     },
     "execution_count": 3,
     "metadata": {},
     "output_type": "execute_result"
    }
   ],
   "source": [
    "login_data = {\n",
    "    'username': 'admin',\n",
    "    'password': 'admin',\n",
    "}\n",
    "\n",
    "login_response = requests.post(url=login_url, data=login_data).json()\n",
    "user_token = login_response['key']\n",
    "\n",
    "headers = {'Authorization': f'Token {user_token}'}\n",
    "user_token"
   ]
  },
  {
   "attachments": {},
   "cell_type": "markdown",
   "metadata": {},
   "source": [
    "Get Account Details"
   ]
  },
  {
   "cell_type": "code",
   "execution_count": 4,
   "metadata": {},
   "outputs": [
    {
     "data": {
      "text/plain": [
       "{'count': 1,\n",
       " 'next': None,\n",
       " 'previous': None,\n",
       " 'results': [{'id': 1,\n",
       "   'username': 'admin',\n",
       "   'first_name': 'admin_first',\n",
       "   'last_name': 'admin_last',\n",
       "   'email': 'admin_email@email.com',\n",
       "   'profile': {'mobile_number': '+6586970132',\n",
       "    'date_of_birth': '2001-01-01',\n",
       "    'address': '830 Hougang Central',\n",
       "    'postal_code': '530830',\n",
       "    'date_joined': '2023-04-23'}}]}"
      ]
     },
     "execution_count": 4,
     "metadata": {},
     "output_type": "execute_result"
    }
   ],
   "source": [
    "get_details_response = requests.get(url=details_url, headers=headers).json()\n",
    "get_details_response"
   ]
  },
  {
   "attachments": {},
   "cell_type": "markdown",
   "metadata": {},
   "source": [
    "Update Account"
   ]
  },
  {
   "cell_type": "code",
   "execution_count": 5,
   "metadata": {},
   "outputs": [],
   "source": [
    "# update_details_data = {\n",
    "#     'first_name': 'admin_first',\n",
    "#     'last_name': 'admin_last',\n",
    "#     'email': 'admin_email@email.com',\n",
    "#     'mobile_number': '+6586970132',\n",
    "#     'address': '25 Holland Rise',\n",
    "#     'postal_code': '279220',\n",
    "#     'date_of_birth': '2001-01-01',\n",
    "# }\n",
    "# update_details_response = requests.post(url=details_url, data=update_details_data, headers=headers).json()\n",
    "# update_details_response"
   ]
  },
  {
   "attachments": {},
   "cell_type": "markdown",
   "metadata": {},
   "source": [
    "Create Restaurant Types"
   ]
  },
  {
   "cell_type": "code",
   "execution_count": 6,
   "metadata": {},
   "outputs": [],
   "source": [
    "# create_restaurant_types_data = {\n",
    "#     'name': 'vegetarian'\n",
    "# }\n",
    "# create_restaurant_types_response = requests.post(url=restaurant_types_url, data=create_restaurant_types_data, headers=headers).json()\n",
    "# create_restaurant_types_response"
   ]
  },
  {
   "attachments": {},
   "cell_type": "markdown",
   "metadata": {},
   "source": [
    "Get Restaurant Types"
   ]
  },
  {
   "cell_type": "code",
   "execution_count": 7,
   "metadata": {},
   "outputs": [
    {
     "data": {
      "text/plain": [
       "{'count': 5,\n",
       " 'next': None,\n",
       " 'previous': None,\n",
       " 'results': [{'id': 1, 'name': 'western'},\n",
       "  {'id': 2, 'name': 'chicken'},\n",
       "  {'id': 3, 'name': 'pizza'},\n",
       "  {'id': 4, 'name': 'pasta'},\n",
       "  {'id': 5, 'name': 'vegetarian'}]}"
      ]
     },
     "execution_count": 7,
     "metadata": {},
     "output_type": "execute_result"
    }
   ],
   "source": [
    "get_restaurant_types_response = requests.get(url=restaurant_types_url, headers=headers).json()\n",
    "get_restaurant_types_response"
   ]
  },
  {
   "attachments": {},
   "cell_type": "markdown",
   "metadata": {},
   "source": [
    "Create New Restaurant"
   ]
  },
  {
   "cell_type": "code",
   "execution_count": 8,
   "metadata": {},
   "outputs": [],
   "source": [
    "# create_restaurants_data = {\n",
    "#     'name': 'Chicken Restaurant',\n",
    "#     'delivery_charge': 0.4,\n",
    "#     'address': '60 Paya Lebar Road, #01-89/90/K1',\n",
    "#     'postal_code': '409051',\n",
    "# }\n",
    "# create_restaurants_response = requests.post(url=restaurant_details_url, data=create_restaurants_data, headers=headers).json()\n",
    "# create_restaurants_response"
   ]
  },
  {
   "attachments": {},
   "cell_type": "markdown",
   "metadata": {},
   "source": [
    "Get Restaurant Details"
   ]
  },
  {
   "cell_type": "code",
   "execution_count": 9,
   "metadata": {},
   "outputs": [
    {
     "data": {
      "text/plain": [
       "{'count': 2,\n",
       " 'next': None,\n",
       " 'previous': None,\n",
       " 'results': [{'id': 1,\n",
       "   'active': True,\n",
       "   'owner': 1,\n",
       "   'restaurant_type': [1, 2, 3, 5],\n",
       "   'name': 'Pizza Restaurant',\n",
       "   'delivery_charge': 0.4,\n",
       "   'address': '301 Upper Thomson Rd, #02-24 / 26 Thomson Plaza',\n",
       "   'postal_code': '574408',\n",
       "   'items': [{'id': 5,\n",
       "     'active': True,\n",
       "     'name': 'Pepperoni Pizza',\n",
       "     'restaurant': 1,\n",
       "     'item_type': [3, 4, 6],\n",
       "     'price': 8.3},\n",
       "    {'id': 6,\n",
       "     'active': True,\n",
       "     'name': 'Super Cheesy Pizza',\n",
       "     'restaurant': 1,\n",
       "     'item_type': [1, 3, 4, 6, 9],\n",
       "     'price': 9.0},\n",
       "    {'id': 7,\n",
       "     'active': True,\n",
       "     'name': 'Pepsi',\n",
       "     'restaurant': 1,\n",
       "     'item_type': [10, 11, 12],\n",
       "     'price': 0.5},\n",
       "    {'id': 10,\n",
       "     'active': True,\n",
       "     'name': 'Milo',\n",
       "     'restaurant': 1,\n",
       "     'item_type': [10, 13],\n",
       "     'price': 0.5}]},\n",
       "  {'id': 2,\n",
       "   'active': True,\n",
       "   'owner': 1,\n",
       "   'restaurant_type': [1, 2],\n",
       "   'name': 'Chicken Restaurant',\n",
       "   'delivery_charge': 0.6,\n",
       "   'address': '60 Paya Lebar Road, #01-89/90/K1',\n",
       "   'postal_code': '409051',\n",
       "   'items': [{'id': 1,\n",
       "     'active': True,\n",
       "     'name': 'Crispy Spicy Chicken',\n",
       "     'restaurant': 2,\n",
       "     'item_type': [1, 2, 7],\n",
       "     'price': 7.5},\n",
       "    {'id': 2,\n",
       "     'active': True,\n",
       "     'name': 'Breaded Spicy Chicken',\n",
       "     'restaurant': 2,\n",
       "     'item_type': [1, 7, 8],\n",
       "     'price': 6.5},\n",
       "    {'id': 3,\n",
       "     'active': True,\n",
       "     'name': 'Crispy Soy Chicken',\n",
       "     'restaurant': 2,\n",
       "     'item_type': [1, 7, 8],\n",
       "     'price': 6.5},\n",
       "    {'id': 4,\n",
       "     'active': True,\n",
       "     'name': 'Breaded Soy Chicken',\n",
       "     'restaurant': 2,\n",
       "     'item_type': [1, 7, 8],\n",
       "     'price': 5.5},\n",
       "    {'id': 8,\n",
       "     'active': True,\n",
       "     'name': 'Pepsi',\n",
       "     'restaurant': 2,\n",
       "     'item_type': [10, 11, 12],\n",
       "     'price': 0.5},\n",
       "    {'id': 9,\n",
       "     'active': True,\n",
       "     'name': 'Coffee',\n",
       "     'restaurant': 2,\n",
       "     'item_type': [10, 13],\n",
       "     'price': 0.5}]}]}"
      ]
     },
     "execution_count": 9,
     "metadata": {},
     "output_type": "execute_result"
    }
   ],
   "source": [
    "get_restaurants_params = {\n",
    "    # 'id': 1,\n",
    "    # 'active': True,\n",
    "}\n",
    "get_restaurants_response = requests.get(url=restaurant_details_url, params=get_restaurants_params, headers=headers).json()\n",
    "get_restaurants_response"
   ]
  },
  {
   "attachments": {},
   "cell_type": "markdown",
   "metadata": {},
   "source": [
    "Update Restaurant Details"
   ]
  },
  {
   "cell_type": "code",
   "execution_count": 10,
   "metadata": {},
   "outputs": [],
   "source": [
    "# update_restaurant_id = 2\n",
    "# update_restaurant_data = requests.get(url=restaurant_details_url, params={'id':update_restaurant_id}, headers=headers).json()['results'][0]\n",
    "# update_restaurant_data.update({\n",
    "#     # 'active': True,\n",
    "#     'delivery_charge': 0.6,\n",
    "#     'restaurant_type': [1, 2],\n",
    "# })\n",
    "# update_restaurant_response = requests.put(url=update_restaurant_url + f'{update_restaurant_id}/', data=update_restaurant_data, headers=headers).json()\n",
    "# update_restaurant_response"
   ]
  },
  {
   "attachments": {},
   "cell_type": "markdown",
   "metadata": {},
   "source": [
    "Create Item Types"
   ]
  },
  {
   "cell_type": "code",
   "execution_count": 11,
   "metadata": {},
   "outputs": [],
   "source": [
    "# create_item_type_data = {\n",
    "#     'name': 'hot',\n",
    "# }\n",
    "# create_item_type_response = requests.post(url=item_types_url, data=create_item_type_data, headers=headers).json()\n",
    "# create_item_type_response"
   ]
  },
  {
   "attachments": {},
   "cell_type": "markdown",
   "metadata": {},
   "source": [
    "Get Item Types"
   ]
  },
  {
   "cell_type": "code",
   "execution_count": 12,
   "metadata": {},
   "outputs": [
    {
     "data": {
      "text/plain": [
       "{'count': 13,\n",
       " 'next': None,\n",
       " 'previous': None,\n",
       " 'results': [{'id': 1, 'name': 'chicken'},\n",
       "  {'id': 2, 'name': 'fried'},\n",
       "  {'id': 3, 'name': 'pizza'},\n",
       "  {'id': 4, 'name': 'tomato'},\n",
       "  {'id': 5, 'name': 'crispy'},\n",
       "  {'id': 6, 'name': 'beef'},\n",
       "  {'id': 7, 'name': 'spicy'},\n",
       "  {'id': 8, 'name': 'breaded'},\n",
       "  {'id': 9, 'name': 'cheese'},\n",
       "  {'id': 10, 'name': 'drink'},\n",
       "  {'id': 11, 'name': 'carbonated'},\n",
       "  {'id': 12, 'name': 'cold'},\n",
       "  {'id': 13, 'name': 'hot'}]}"
      ]
     },
     "execution_count": 12,
     "metadata": {},
     "output_type": "execute_result"
    }
   ],
   "source": [
    "item_types_response = requests.get(url=item_types_url, headers=headers).json()\n",
    "item_types_response"
   ]
  },
  {
   "attachments": {},
   "cell_type": "markdown",
   "metadata": {},
   "source": [
    "Get Item Details"
   ]
  },
  {
   "cell_type": "code",
   "execution_count": 13,
   "metadata": {},
   "outputs": [
    {
     "data": {
      "text/plain": [
       "{'count': 10,\n",
       " 'next': None,\n",
       " 'previous': None,\n",
       " 'results': [{'id': 1,\n",
       "   'active': True,\n",
       "   'name': 'Crispy Spicy Chicken',\n",
       "   'restaurant': 2,\n",
       "   'item_type': [1, 2, 7],\n",
       "   'price': 7.5},\n",
       "  {'id': 2,\n",
       "   'active': True,\n",
       "   'name': 'Breaded Spicy Chicken',\n",
       "   'restaurant': 2,\n",
       "   'item_type': [1, 7, 8],\n",
       "   'price': 6.5},\n",
       "  {'id': 3,\n",
       "   'active': True,\n",
       "   'name': 'Crispy Soy Chicken',\n",
       "   'restaurant': 2,\n",
       "   'item_type': [1, 7, 8],\n",
       "   'price': 6.5},\n",
       "  {'id': 4,\n",
       "   'active': True,\n",
       "   'name': 'Breaded Soy Chicken',\n",
       "   'restaurant': 2,\n",
       "   'item_type': [1, 7, 8],\n",
       "   'price': 5.5},\n",
       "  {'id': 5,\n",
       "   'active': True,\n",
       "   'name': 'Pepperoni Pizza',\n",
       "   'restaurant': 1,\n",
       "   'item_type': [3, 4, 6],\n",
       "   'price': 8.3},\n",
       "  {'id': 6,\n",
       "   'active': True,\n",
       "   'name': 'Super Cheesy Pizza',\n",
       "   'restaurant': 1,\n",
       "   'item_type': [1, 3, 4, 6, 9],\n",
       "   'price': 9.0},\n",
       "  {'id': 7,\n",
       "   'active': True,\n",
       "   'name': 'Pepsi',\n",
       "   'restaurant': 1,\n",
       "   'item_type': [10, 11, 12],\n",
       "   'price': 0.5},\n",
       "  {'id': 8,\n",
       "   'active': True,\n",
       "   'name': 'Pepsi',\n",
       "   'restaurant': 2,\n",
       "   'item_type': [10, 11, 12],\n",
       "   'price': 0.5},\n",
       "  {'id': 9,\n",
       "   'active': True,\n",
       "   'name': 'Coffee',\n",
       "   'restaurant': 2,\n",
       "   'item_type': [10, 13],\n",
       "   'price': 0.5},\n",
       "  {'id': 10,\n",
       "   'active': True,\n",
       "   'name': 'Milo',\n",
       "   'restaurant': 1,\n",
       "   'item_type': [10, 13],\n",
       "   'price': 0.5}]}"
      ]
     },
     "execution_count": 13,
     "metadata": {},
     "output_type": "execute_result"
    }
   ],
   "source": [
    "item_details_params = {\n",
    "    # 'item_id': 1,\n",
    "    # 'restaurant_id': 2,\n",
    "}\n",
    "item_details_response = requests.get(url=item_details_url, params=item_details_params, headers=headers).json()\n",
    "item_details_response"
   ]
  },
  {
   "attachments": {},
   "cell_type": "markdown",
   "metadata": {},
   "source": [
    "Create New Item"
   ]
  },
  {
   "cell_type": "code",
   "execution_count": 14,
   "metadata": {},
   "outputs": [],
   "source": [
    "# create_item_data = {\n",
    "#     'name': 'Milo',\n",
    "#     'restaurant': 1,\n",
    "#     'item_type': [10, 13],\n",
    "#     'price': 0.5\n",
    "# }\n",
    "# create_item_response = requests.post(url=item_details_url, data=create_item_data, headers=headers).json()\n",
    "# create_item_response"
   ]
  },
  {
   "attachments": {},
   "cell_type": "markdown",
   "metadata": {},
   "source": [
    "Update Item Details"
   ]
  },
  {
   "cell_type": "code",
   "execution_count": 15,
   "metadata": {},
   "outputs": [],
   "source": [
    "# item_id = 1\n",
    "# update_item_data = requests.get(url=item_details_url, params={'item_id': item_id}, headers=headers).json()['results'][0]\n",
    "# update_item_data.update({\n",
    "#     'active': True,\n",
    "# })\n",
    "# update_item_response = requests.put(url=update_items_url + f'{item_id}/', data=update_item_data, headers=headers).json()\n",
    "# update_item_response"
   ]
  },
  {
   "attachments": {},
   "cell_type": "markdown",
   "metadata": {},
   "source": [
    "Get Order Details"
   ]
  },
  {
   "cell_type": "code",
   "execution_count": 34,
   "metadata": {},
   "outputs": [
    {
     "data": {
      "text/plain": [
       "{'count': 1,\n",
       " 'next': None,\n",
       " 'previous': None,\n",
       " 'results': [{'id': 7,\n",
       "   'completed': False,\n",
       "   'user': 1,\n",
       "   'date': '2023-04-23',\n",
       "   'restaurant': 1,\n",
       "   'items': [],\n",
       "   'from_address': '301 Upper Thomson Rd, #02-24 / 26 Thomson Plaza',\n",
       "   'from_postal_code': '574408',\n",
       "   'to_address': '830 Hougang Central',\n",
       "   'to_postal_code': '530830',\n",
       "   'items_subtotal': 0.0,\n",
       "   'delivery_cost': 4.23,\n",
       "   'total_cost': 4.23}]}"
      ]
     },
     "execution_count": 34,
     "metadata": {},
     "output_type": "execute_result"
    }
   ],
   "source": [
    "get_orders_response = requests.get(url=order_details_url, headers=headers).json()\n",
    "get_orders_response"
   ]
  },
  {
   "attachments": {},
   "cell_type": "markdown",
   "metadata": {},
   "source": [
    "Create New Order"
   ]
  },
  {
   "cell_type": "code",
   "execution_count": 33,
   "metadata": {},
   "outputs": [
    {
     "data": {
      "text/plain": [
       "{'Success': 'New order created successfully'}"
      ]
     },
     "execution_count": 33,
     "metadata": {},
     "output_type": "execute_result"
    }
   ],
   "source": [
    "# create_order_data = {\n",
    "#     'restaurant': 1,\n",
    "#     # 'to_address': '830 Hougang Central',\n",
    "#     # 'to_postal_code': '530830',\n",
    "# }\n",
    "# create_order_response = requests.post(url=order_details_url, data=create_order_data, headers=headers).json()\n",
    "# create_order_response"
   ]
  },
  {
   "attachments": {},
   "cell_type": "markdown",
   "metadata": {},
   "source": [
    "Get Item Details"
   ]
  },
  {
   "cell_type": "code",
   "execution_count": 35,
   "metadata": {},
   "outputs": [
    {
     "data": {
      "text/plain": [
       "{'count': 0, 'next': None, 'previous': None, 'results': []}"
      ]
     },
     "execution_count": 35,
     "metadata": {},
     "output_type": "execute_result"
    }
   ],
   "source": [
    "order_item_params = {\n",
    "    'order_id': 7,\n",
    "}\n",
    "order_item_details = requests.get(url=order_items_url, params=order_item_params, headers=headers).json()\n",
    "order_item_details"
   ]
  },
  {
   "attachments": {},
   "cell_type": "markdown",
   "metadata": {},
   "source": [
    "Add Items to Order"
   ]
  },
  {
   "cell_type": "code",
   "execution_count": 40,
   "metadata": {},
   "outputs": [
    {
     "data": {
      "text/plain": [
       "{'Success': 'Item added to order successfully'}"
      ]
     },
     "execution_count": 40,
     "metadata": {},
     "output_type": "execute_result"
    }
   ],
   "source": [
    "# add_order_item_data = {\n",
    "#     'order': 7,\n",
    "#     'item': 10,\n",
    "#     'quantity': 7,\n",
    "# }\n",
    "# add_order_item_response = requests.post(url=order_items_url, data=add_order_item_data, headers=headers).json()\n",
    "# add_order_item_response"
   ]
  }
 ],
 "metadata": {
  "kernelspec": {
   "display_name": "venv",
   "language": "python",
   "name": "python3"
  },
  "language_info": {
   "codemirror_mode": {
    "name": "ipython",
    "version": 3
   },
   "file_extension": ".py",
   "mimetype": "text/x-python",
   "name": "python",
   "nbconvert_exporter": "python",
   "pygments_lexer": "ipython3",
   "version": "3.10.5"
  },
  "orig_nbformat": 4
 },
 "nbformat": 4,
 "nbformat_minor": 2
}
