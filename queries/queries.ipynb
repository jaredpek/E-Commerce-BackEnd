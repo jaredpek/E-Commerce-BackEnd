{
 "cells": [
  {
   "cell_type": "code",
   "execution_count": 1,
   "metadata": {},
   "outputs": [],
   "source": [
    "import requests\n",
    "\n",
    "base_url = 'http://127.0.0.1:8000/api/'\n",
    "\n",
    "user_account_url = base_url + 'user_account/'\n",
    "login_url = user_account_url + 'auth/login/'\n",
    "logout_url = user_account_url + 'auth/logout/'\n",
    "register_url = user_account_url + 'auth/register/'\n",
    "details_url = user_account_url + 'details/'"
   ]
  },
  {
   "cell_type": "code",
   "execution_count": 2,
   "metadata": {},
   "outputs": [],
   "source": [
    "# register_username = 'user2'\n",
    "# register_password = 'password2'\n",
    "# register_email = f'{register_username}@email.com'\n",
    "# register_data = {\n",
    "#     'username': register_username,\n",
    "#     'password1': register_password,\n",
    "#     'password2': register_password,\n",
    "#     'email': register_email,\n",
    "# }\n",
    "\n",
    "# register_response = requests.post(url=register_url, data=register_data)\n",
    "# register_response"
   ]
  },
  {
   "cell_type": "code",
   "execution_count": 3,
   "metadata": {},
   "outputs": [
    {
     "data": {
      "text/plain": [
       "'a8a158c063b773877e772d5377809cd587c4d8a6'"
      ]
     },
     "execution_count": 3,
     "metadata": {},
     "output_type": "execute_result"
    }
   ],
   "source": [
    "login_data = {\n",
    "    'username': 'admin',\n",
    "    'password': 'admin',\n",
    "}\n",
    "\n",
    "login_response = requests.post(url=login_url, data=login_data).json()\n",
    "user_token = login_response['key']\n",
    "\n",
    "headers = {'Authorization': f'Token {user_token}'}\n",
    "user_token"
   ]
  },
  {
   "cell_type": "code",
   "execution_count": 4,
   "metadata": {},
   "outputs": [
    {
     "data": {
      "text/plain": [
       "{'count': 1,\n",
       " 'next': None,\n",
       " 'previous': None,\n",
       " 'results': [{'id': 1,\n",
       "   'username': 'admin',\n",
       "   'first_name': '',\n",
       "   'last_name': '',\n",
       "   'email': 'admin@admin.com',\n",
       "   'profile': {'mobile_number': '',\n",
       "    'date_of_birth': None,\n",
       "    'date_joined': '2023-04-20'}}]}"
      ]
     },
     "execution_count": 4,
     "metadata": {},
     "output_type": "execute_result"
    }
   ],
   "source": [
    "get_details_response = requests.get(url=details_url, headers=headers).json()\n",
    "get_details_response"
   ]
  },
  {
   "cell_type": "code",
   "execution_count": 9,
   "metadata": {},
   "outputs": [
    {
     "data": {
      "text/plain": [
       "{'Success': 'Account successfully updated'}"
      ]
     },
     "execution_count": 9,
     "metadata": {},
     "output_type": "execute_result"
    }
   ],
   "source": [
    "# update_details_data = {\n",
    "#     'first_name': 'admin_first',\n",
    "#     'last_name': 'admin_last',\n",
    "#     'email': 'admin_email@email.com',\n",
    "#     'mobile_number': '+90987876',\n",
    "#     'date_of_birth': '2000-01-01',\n",
    "# }\n",
    "# update_details_response = requests.post(url=details_url, data=update_details_data, headers=headers).json()\n",
    "# update_details_response"
   ]
  }
 ],
 "metadata": {
  "kernelspec": {
   "display_name": "venv",
   "language": "python",
   "name": "python3"
  },
  "language_info": {
   "codemirror_mode": {
    "name": "ipython",
    "version": 3
   },
   "file_extension": ".py",
   "mimetype": "text/x-python",
   "name": "python",
   "nbconvert_exporter": "python",
   "pygments_lexer": "ipython3",
   "version": "3.10.5"
  },
  "orig_nbformat": 4
 },
 "nbformat": 4,
 "nbformat_minor": 2
}
