{
 "cells": [
  {
   "cell_type": "code",
   "execution_count": 7,
   "metadata": {},
   "outputs": [],
   "source": [
    "import requests\n",
    "\n",
    "base_url = 'http://127.0.0.1:8000/api/'\n",
    "\n",
    "user_account_url = base_url + 'user_account/'\n",
    "login_url = user_account_url + 'auth/login/'\n",
    "logout_url = user_account_url + 'auth/logout/'\n",
    "register_url = user_account_url + 'auth/register/'\n",
    "details_url = user_account_url + 'details/'\n",
    "\n",
    "restaurant_url = base_url + 'restaurant/'\n",
    "restaurant_types_url = restaurant_url + 'types/'\n",
    "restaurant_details_url = restaurant_url + 'details/'\n",
    "update_restaurant_url = restaurant_url + 'update/'\n",
    "\n",
    "item_url = base_url + 'item/'\n",
    "item_types_url = item_url + 'types/'\n",
    "item_details_url = item_url + 'details/'\n",
    "update_items_url = item_url + 'update/'\n",
    "\n",
    "order_url = base_url + 'order/'\n",
    "order_details_url = order_url + 'details/'\n",
    "update_order_details_url = order_url + 'details/update/'\n",
    "order_items_url = order_url + 'items/'\n",
    "update_order_items_url = order_url + 'items/update'\n"
   ]
  },
  {
   "attachments": {},
   "cell_type": "markdown",
   "metadata": {},
   "source": [
    "Register Account"
   ]
  },
  {
   "cell_type": "code",
   "execution_count": 8,
   "metadata": {},
   "outputs": [],
   "source": [
    "# register_username = 'user2'\n",
    "# register_password = 'password2'\n",
    "# register_email = f'{register_username}@email.com'\n",
    "# register_data = {\n",
    "#     'username': register_username,\n",
    "#     'password1': register_password,\n",
    "#     'password2': register_password,\n",
    "#     'email': register_email,\n",
    "# }\n",
    "\n",
    "# register_response = requests.post(url=register_url, data=register_data)\n",
    "# register_response"
   ]
  },
  {
   "attachments": {},
   "cell_type": "markdown",
   "metadata": {},
   "source": [
    "Login Acount"
   ]
  },
  {
   "cell_type": "code",
   "execution_count": 9,
   "metadata": {},
   "outputs": [
    {
     "data": {
      "text/plain": [
       "'e92cd4cdb2ce62548c68e8b66b84a90776429840'"
      ]
     },
     "execution_count": 9,
     "metadata": {},
     "output_type": "execute_result"
    }
   ],
   "source": [
    "login_data = {\n",
    "    'username': 'admin',\n",
    "    'password': 'admin',\n",
    "}\n",
    "\n",
    "login_response = requests.post(url=login_url, data=login_data).json()\n",
    "user_token = login_response['key']\n",
    "\n",
    "headers = {'Authorization': f'Token {user_token}'}\n",
    "user_token"
   ]
  },
  {
   "attachments": {},
   "cell_type": "markdown",
   "metadata": {},
   "source": [
    "Get Account Details"
   ]
  },
  {
   "cell_type": "code",
   "execution_count": 10,
   "metadata": {},
   "outputs": [
    {
     "data": {
      "text/plain": [
       "{'count': 1,\n",
       " 'next': None,\n",
       " 'previous': None,\n",
       " 'results': [{'id': 1,\n",
       "   'username': 'admin',\n",
       "   'first_name': '',\n",
       "   'last_name': '',\n",
       "   'email': 'admin@admin.com',\n",
       "   'profile': {'mobile_number': '',\n",
       "    'date_of_birth': None,\n",
       "    'address': None,\n",
       "    'postal_code': None,\n",
       "    'date_joined': '2023-04-29'}}]}"
      ]
     },
     "execution_count": 10,
     "metadata": {},
     "output_type": "execute_result"
    }
   ],
   "source": [
    "get_details_response = requests.get(url=details_url, headers=headers).json()\n",
    "get_details_response"
   ]
  },
  {
   "attachments": {},
   "cell_type": "markdown",
   "metadata": {},
   "source": [
    "Update Account"
   ]
  },
  {
   "cell_type": "code",
   "execution_count": 23,
   "metadata": {},
   "outputs": [
    {
     "data": {
      "text/plain": [
       "{'Success': 'Account successfully updated'}"
      ]
     },
     "execution_count": 23,
     "metadata": {},
     "output_type": "execute_result"
    }
   ],
   "source": [
    "# update_details_data = {\n",
    "#     'first_name': 'admin_first',\n",
    "#     'last_name': 'admin_last',\n",
    "#     'email': 'admin_email@email.com',\n",
    "#     'mobile_number': '+6586970132',\n",
    "#     'address': '25 Holland Rise',\n",
    "#     'postal_code': '279220',\n",
    "#     'date_of_birth': '2001-01-01',\n",
    "# }\n",
    "# update_details_response = requests.post(url=details_url, data=update_details_data, headers=headers).json()\n",
    "# update_details_response"
   ]
  },
  {
   "attachments": {},
   "cell_type": "markdown",
   "metadata": {},
   "source": [
    "Create Restaurant Types"
   ]
  },
  {
   "cell_type": "code",
   "execution_count": 26,
   "metadata": {},
   "outputs": [
    {
     "data": {
      "text/plain": [
       "{'Success': 'New restaurant type created successfully'}"
      ]
     },
     "execution_count": 26,
     "metadata": {},
     "output_type": "execute_result"
    }
   ],
   "source": [
    "# create_restaurant_types_data = {\n",
    "#     'name': 'chicken'\n",
    "# }\n",
    "# create_restaurant_types_response = requests.post(url=restaurant_types_url, data=create_restaurant_types_data, headers=headers).json()\n",
    "# create_restaurant_types_response"
   ]
  },
  {
   "attachments": {},
   "cell_type": "markdown",
   "metadata": {},
   "source": [
    "Get Restaurant Types"
   ]
  },
  {
   "cell_type": "code",
   "execution_count": 27,
   "metadata": {},
   "outputs": [
    {
     "data": {
      "text/plain": [
       "{'count': 3,\n",
       " 'next': None,\n",
       " 'previous': None,\n",
       " 'results': [{'id': 1, 'name': 'pizza'},\n",
       "  {'id': 2, 'name': 'vegetarian'},\n",
       "  {'id': 3, 'name': 'chicken'}]}"
      ]
     },
     "execution_count": 27,
     "metadata": {},
     "output_type": "execute_result"
    }
   ],
   "source": [
    "get_restaurant_types_response = requests.get(url=restaurant_types_url, headers=headers).json()\n",
    "get_restaurant_types_response"
   ]
  },
  {
   "attachments": {},
   "cell_type": "markdown",
   "metadata": {},
   "source": [
    "Create New Restaurant"
   ]
  },
  {
   "cell_type": "code",
   "execution_count": 31,
   "metadata": {},
   "outputs": [
    {
     "data": {
      "text/plain": [
       "{'Success': 'New restaurant created'}"
      ]
     },
     "execution_count": 31,
     "metadata": {},
     "output_type": "execute_result"
    }
   ],
   "source": [
    "# create_restaurants_data = {\n",
    "#     'name': 'Pizza Restaurant',\n",
    "#     'delivery_charge': 0.6,\n",
    "#     'address': '4 Tampines Central 5, #02 - 02 Tampines Mall',\n",
    "#     'postal_code': '529510',\n",
    "#     'restaurant_type': [1, 2, 3],\n",
    "# }\n",
    "# create_restaurants_response = requests.post(url=restaurant_details_url, data=create_restaurants_data, headers=headers).json()\n",
    "# create_restaurants_response"
   ]
  },
  {
   "attachments": {},
   "cell_type": "markdown",
   "metadata": {},
   "source": [
    "Get Restaurant Details"
   ]
  },
  {
   "cell_type": "code",
   "execution_count": 54,
   "metadata": {},
   "outputs": [
    {
     "data": {
      "text/plain": [
       "{'count': 2,\n",
       " 'next': None,\n",
       " 'previous': None,\n",
       " 'results': [{'id': 1,\n",
       "   'active': True,\n",
       "   'owner': 1,\n",
       "   'restaurant_type': [1, 3],\n",
       "   'name': 'Chicken Restaurant',\n",
       "   'delivery_charge': 0.4,\n",
       "   'address': '60 Paya Lebar Road, #01-89/90/K1',\n",
       "   'postal_code': '409051',\n",
       "   'items': [{'id': 1,\n",
       "     'active': True,\n",
       "     'name': 'Crispy Fried Chicken',\n",
       "     'restaurant': 1,\n",
       "     'item_type': [1, 4],\n",
       "     'price': 5.9},\n",
       "    {'id': 2,\n",
       "     'active': True,\n",
       "     'name': 'Spicy Fried Chicken',\n",
       "     'restaurant': 1,\n",
       "     'item_type': [1, 4, 6],\n",
       "     'price': 6.4},\n",
       "    {'id': 3,\n",
       "     'active': True,\n",
       "     'name': 'Milo',\n",
       "     'restaurant': 1,\n",
       "     'item_type': [7],\n",
       "     'price': 0.7},\n",
       "    {'id': 4,\n",
       "     'active': True,\n",
       "     'name': 'Pepsi',\n",
       "     'restaurant': 1,\n",
       "     'item_type': [7],\n",
       "     'price': 0.6}]},\n",
       "  {'id': 2,\n",
       "   'active': True,\n",
       "   'owner': 1,\n",
       "   'restaurant_type': [1, 2, 3],\n",
       "   'name': 'Pizza Restaurant',\n",
       "   'delivery_charge': 0.6,\n",
       "   'address': '4 Tampines Central 5, #02 - 02 Tampines Mall',\n",
       "   'postal_code': '529510',\n",
       "   'items': [{'id': 5,\n",
       "     'active': True,\n",
       "     'name': 'Coke',\n",
       "     'restaurant': 2,\n",
       "     'item_type': [7],\n",
       "     'price': 0.6},\n",
       "    {'id': 6,\n",
       "     'active': True,\n",
       "     'name': 'Tea',\n",
       "     'restaurant': 2,\n",
       "     'item_type': [7],\n",
       "     'price': 0.6},\n",
       "    {'id': 7,\n",
       "     'active': True,\n",
       "     'name': 'Super Cheesy Pizza',\n",
       "     'restaurant': 2,\n",
       "     'item_type': [2, 5, 8],\n",
       "     'price': 9.3},\n",
       "    {'id': 8,\n",
       "     'active': True,\n",
       "     'name': 'Pepperoni Pizza',\n",
       "     'restaurant': 2,\n",
       "     'item_type': [2, 5],\n",
       "     'price': 8.6}]}]}"
      ]
     },
     "execution_count": 54,
     "metadata": {},
     "output_type": "execute_result"
    }
   ],
   "source": [
    "get_restaurants_params = {\n",
    "    # 'id': 1,\n",
    "    # 'active': True,\n",
    "}\n",
    "get_restaurants_response = requests.get(url=restaurant_details_url, params=get_restaurants_params, headers=headers).json()\n",
    "get_restaurants_response"
   ]
  },
  {
   "attachments": {},
   "cell_type": "markdown",
   "metadata": {},
   "source": [
    "Update Restaurant Details"
   ]
  },
  {
   "cell_type": "code",
   "execution_count": 29,
   "metadata": {},
   "outputs": [
    {
     "data": {
      "text/plain": [
       "{'id': 1,\n",
       " 'active': True,\n",
       " 'owner': 1,\n",
       " 'restaurant_type': [1, 3],\n",
       " 'name': 'Chicken Restaurant',\n",
       " 'delivery_charge': 0.4,\n",
       " 'address': '60 Paya Lebar Road, #01-89/90/K1',\n",
       " 'postal_code': '409051',\n",
       " 'items': []}"
      ]
     },
     "execution_count": 29,
     "metadata": {},
     "output_type": "execute_result"
    }
   ],
   "source": [
    "# update_restaurant_id = 1\n",
    "# update_restaurant_data = requests.get(url=restaurant_details_url, params={'id':update_restaurant_id}, headers=headers).json()['results'][0]\n",
    "# update_restaurant_data.update({\n",
    "#     # 'active': True,\n",
    "#     # 'delivery_charge': 0.6,\n",
    "#     'restaurant_type': [1, 3],\n",
    "# })\n",
    "# update_restaurant_response = requests.put(url=update_restaurant_url + f'{update_restaurant_id}/', data=update_restaurant_data, headers=headers).json()\n",
    "# update_restaurant_response"
   ]
  },
  {
   "attachments": {},
   "cell_type": "markdown",
   "metadata": {},
   "source": [
    "Create Item Types"
   ]
  },
  {
   "cell_type": "code",
   "execution_count": 51,
   "metadata": {},
   "outputs": [
    {
     "data": {
      "text/plain": [
       "{'Success': 'New item type created'}"
      ]
     },
     "execution_count": 51,
     "metadata": {},
     "output_type": "execute_result"
    }
   ],
   "source": [
    "# create_item_type_data = {\n",
    "#     'name': 'cheese',\n",
    "# }\n",
    "# create_item_type_response = requests.post(url=item_types_url, data=create_item_type_data, headers=headers).json()\n",
    "# create_item_type_response"
   ]
  },
  {
   "attachments": {},
   "cell_type": "markdown",
   "metadata": {},
   "source": [
    "Get Item Types"
   ]
  },
  {
   "cell_type": "code",
   "execution_count": 43,
   "metadata": {},
   "outputs": [
    {
     "data": {
      "text/plain": [
       "{'count': 7,\n",
       " 'next': None,\n",
       " 'previous': None,\n",
       " 'results': [{'id': 1, 'name': 'chicken'},\n",
       "  {'id': 2, 'name': 'beef'},\n",
       "  {'id': 3, 'name': 'fish'},\n",
       "  {'id': 4, 'name': 'fried'},\n",
       "  {'id': 5, 'name': 'pizza'},\n",
       "  {'id': 6, 'name': 'spicy'},\n",
       "  {'id': 7, 'name': 'drink'}]}"
      ]
     },
     "execution_count": 43,
     "metadata": {},
     "output_type": "execute_result"
    }
   ],
   "source": [
    "item_types_response = requests.get(url=item_types_url, headers=headers).json()\n",
    "item_types_response"
   ]
  },
  {
   "attachments": {},
   "cell_type": "markdown",
   "metadata": {},
   "source": [
    "Get Item Details"
   ]
  },
  {
   "cell_type": "code",
   "execution_count": 41,
   "metadata": {},
   "outputs": [
    {
     "data": {
      "text/plain": [
       "{'count': 0, 'next': None, 'previous': None, 'results': []}"
      ]
     },
     "execution_count": 41,
     "metadata": {},
     "output_type": "execute_result"
    }
   ],
   "source": [
    "item_details_params = {\n",
    "    # 'item_id': 1,\n",
    "    # 'restaurant_id': 2,\n",
    "}\n",
    "item_details_response = requests.get(url=item_details_url, params=item_details_params, headers=headers).json()\n",
    "item_details_response"
   ]
  },
  {
   "attachments": {},
   "cell_type": "markdown",
   "metadata": {},
   "source": [
    "Create New Item"
   ]
  },
  {
   "cell_type": "code",
   "execution_count": 53,
   "metadata": {},
   "outputs": [
    {
     "data": {
      "text/plain": [
       "{'Success': 'Successfully added a new item'}"
      ]
     },
     "execution_count": 53,
     "metadata": {},
     "output_type": "execute_result"
    }
   ],
   "source": [
    "# create_item_data = {\n",
    "#     'name': 'Pepperoni Pizza',\n",
    "#     'restaurant': 2,\n",
    "#     'item_type': [2, 5],\n",
    "#     'price': 8.60\n",
    "# }\n",
    "# create_item_response = requests.post(url=item_details_url, data=create_item_data, headers=headers).json()\n",
    "# create_item_response"
   ]
  },
  {
   "attachments": {},
   "cell_type": "markdown",
   "metadata": {},
   "source": [
    "Update Item Details"
   ]
  },
  {
   "cell_type": "code",
   "execution_count": 45,
   "metadata": {},
   "outputs": [
    {
     "data": {
      "text/plain": [
       "{'id': 1,\n",
       " 'active': True,\n",
       " 'name': 'Crispy Fried Chicken',\n",
       " 'restaurant': 1,\n",
       " 'item_type': [1, 4],\n",
       " 'price': 5.9}"
      ]
     },
     "execution_count": 45,
     "metadata": {},
     "output_type": "execute_result"
    }
   ],
   "source": [
    "# item_id = 1\n",
    "# update_item_data = requests.get(url=item_details_url, params={'item_id': item_id}, headers=headers).json()['results'][0]\n",
    "# update_item_data.update({\n",
    "#     'item_type': [1, 4],\n",
    "# })\n",
    "# update_item_response = requests.put(url=update_items_url + f'{item_id}/', data=update_item_data, headers=headers).json()\n",
    "# update_item_response"
   ]
  },
  {
   "attachments": {},
   "cell_type": "markdown",
   "metadata": {},
   "source": [
    "Get Order Details"
   ]
  },
  {
   "cell_type": "code",
   "execution_count": 66,
   "metadata": {},
   "outputs": [
    {
     "data": {
      "text/plain": [
       "{'count': 2,\n",
       " 'next': None,\n",
       " 'previous': None,\n",
       " 'results': [{'id': 3,\n",
       "   'items': [],\n",
       "   'status': 0,\n",
       "   'subtotal': 0.0,\n",
       "   'user': 1,\n",
       "   'restaurant': 1},\n",
       "  {'id': 4,\n",
       "   'items': [],\n",
       "   'status': 0,\n",
       "   'subtotal': 0.0,\n",
       "   'user': 1,\n",
       "   'restaurant': 2}]}"
      ]
     },
     "execution_count": 66,
     "metadata": {},
     "output_type": "execute_result"
    }
   ],
   "source": [
    "get_orders_response = requests.get(url=order_details_url, headers=headers).json()\n",
    "get_orders_response"
   ]
  },
  {
   "attachments": {},
   "cell_type": "markdown",
   "metadata": {},
   "source": [
    "Create New Order"
   ]
  },
  {
   "cell_type": "code",
   "execution_count": 65,
   "metadata": {},
   "outputs": [
    {
     "data": {
      "text/plain": [
       "{'Error': 'Order for this restaurant already exists with id 4'}"
      ]
     },
     "execution_count": 65,
     "metadata": {},
     "output_type": "execute_result"
    }
   ],
   "source": [
    "# create_order_data = {\n",
    "#     'user': 1,\n",
    "#     'restaurant': 2,\n",
    "# }\n",
    "# create_order_response = requests.post(url=order_details_url, data=create_order_data, headers=headers).json()\n",
    "# create_order_response"
   ]
  },
  {
   "attachments": {},
   "cell_type": "markdown",
   "metadata": {},
   "source": [
    "Update Order"
   ]
  },
  {
   "cell_type": "code",
   "execution_count": 84,
   "metadata": {},
   "outputs": [
    {
     "data": {
      "text/plain": [
       "{'Error': 'Not allowed to modify a confirmed order'}"
      ]
     },
     "execution_count": 84,
     "metadata": {},
     "output_type": "execute_result"
    }
   ],
   "source": [
    "# order_id = 3\n",
    "# update_order_data = requests.get(url=update_order_details_url + f'{order_id}/', headers=headers).json()\n",
    "# update_order_data['status'] = 0\n",
    "# update_order_response = requests.put(url=update_order_details_url + f'{order_id}/', data=update_order_data, headers=headers).json()\n",
    "# update_order_response"
   ]
  },
  {
   "attachments": {},
   "cell_type": "markdown",
   "metadata": {},
   "source": [
    "Add Order Items"
   ]
  },
  {
   "cell_type": "code",
   "execution_count": null,
   "metadata": {},
   "outputs": [],
   "source": []
  }
 ],
 "metadata": {
  "kernelspec": {
   "display_name": "venv",
   "language": "python",
   "name": "python3"
  },
  "language_info": {
   "codemirror_mode": {
    "name": "ipython",
    "version": 3
   },
   "file_extension": ".py",
   "mimetype": "text/x-python",
   "name": "python",
   "nbconvert_exporter": "python",
   "pygments_lexer": "ipython3",
   "version": "3.10.5"
  },
  "orig_nbformat": 4
 },
 "nbformat": 4,
 "nbformat_minor": 2
}
