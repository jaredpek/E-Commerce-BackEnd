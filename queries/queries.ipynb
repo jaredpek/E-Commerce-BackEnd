{
 "cells": [
  {
   "cell_type": "code",
   "execution_count": 1,
   "metadata": {},
   "outputs": [],
   "source": [
    "import requests\n",
    "\n",
    "base_url = 'http://127.0.0.1:8000/api/'\n",
    "\n",
    "user_account_url = base_url + 'user_account/'\n",
    "login_url = user_account_url + 'auth/login/'\n",
    "logout_url = user_account_url + 'auth/logout/'\n",
    "register_url = user_account_url + 'auth/register/'\n",
    "details_url = user_account_url + 'details/'\n",
    "\n",
    "restaurant_url = base_url + 'restaurant/'\n",
    "restaurant_details_url = restaurant_url + 'details/'\n",
    "update_restaurant_url = restaurant_url + 'update/'\n",
    "\n",
    "item_url = base_url + 'item/'\n",
    "item_types_url = item_url + 'types/'\n",
    "item_details_url = item_url + 'details/'\n",
    "update_items_url = item_url + 'update/'\n",
    "\n",
    "order_url = base_url + 'order/'\n"
   ]
  },
  {
   "attachments": {},
   "cell_type": "markdown",
   "metadata": {},
   "source": [
    "Register Account"
   ]
  },
  {
   "cell_type": "code",
   "execution_count": 2,
   "metadata": {},
   "outputs": [],
   "source": [
    "# register_username = 'user2'\n",
    "# register_password = 'password2'\n",
    "# register_email = f'{register_username}@email.com'\n",
    "# register_data = {\n",
    "#     'username': register_username,\n",
    "#     'password1': register_password,\n",
    "#     'password2': register_password,\n",
    "#     'email': register_email,\n",
    "# }\n",
    "\n",
    "# register_response = requests.post(url=register_url, data=register_data)\n",
    "# register_response"
   ]
  },
  {
   "attachments": {},
   "cell_type": "markdown",
   "metadata": {},
   "source": [
    "Login Acount"
   ]
  },
  {
   "cell_type": "code",
   "execution_count": 3,
   "metadata": {},
   "outputs": [
    {
     "data": {
      "text/plain": [
       "'e4591151cd78303790ba5d448d5e7d05c0dff1a3'"
      ]
     },
     "execution_count": 3,
     "metadata": {},
     "output_type": "execute_result"
    }
   ],
   "source": [
    "login_data = {\n",
    "    'username': 'user1',\n",
    "    'password': 'password1',\n",
    "}\n",
    "\n",
    "login_response = requests.post(url=login_url, data=login_data).json()\n",
    "user_token = login_response['key']\n",
    "\n",
    "headers = {'Authorization': f'Token {user_token}'}\n",
    "user_token"
   ]
  },
  {
   "attachments": {},
   "cell_type": "markdown",
   "metadata": {},
   "source": [
    "Get Account Details"
   ]
  },
  {
   "cell_type": "code",
   "execution_count": 4,
   "metadata": {},
   "outputs": [
    {
     "data": {
      "text/plain": [
       "{'count': 1,\n",
       " 'next': None,\n",
       " 'previous': None,\n",
       " 'results': [{'id': 2,\n",
       "   'username': 'user1',\n",
       "   'first_name': 'user1_first',\n",
       "   'last_name': 'user1_last',\n",
       "   'email': 'user1_email@email.com',\n",
       "   'profile': {'mobile_number': '+86970132',\n",
       "    'date_of_birth': '2001-01-01',\n",
       "    'date_joined': '2023-04-20'}}]}"
      ]
     },
     "execution_count": 4,
     "metadata": {},
     "output_type": "execute_result"
    }
   ],
   "source": [
    "get_details_response = requests.get(url=details_url, headers=headers).json()\n",
    "get_details_response"
   ]
  },
  {
   "attachments": {},
   "cell_type": "markdown",
   "metadata": {},
   "source": [
    "Update Account"
   ]
  },
  {
   "cell_type": "code",
   "execution_count": 5,
   "metadata": {},
   "outputs": [],
   "source": [
    "# update_details_data = {\n",
    "#     'first_name': 'user1_first',\n",
    "#     'last_name': 'user1_last',\n",
    "#     'email': 'user1_email@email.com',\n",
    "#     'mobile_number': '+86970132',\n",
    "#     'date_of_birth': '2001-01-01',\n",
    "# }\n",
    "# update_details_response = requests.post(url=details_url, data=update_details_data, headers=headers).json()\n",
    "# update_details_response"
   ]
  },
  {
   "attachments": {},
   "cell_type": "markdown",
   "metadata": {},
   "source": [
    "Create New Restaurant"
   ]
  },
  {
   "cell_type": "code",
   "execution_count": 6,
   "metadata": {},
   "outputs": [],
   "source": [
    "# create_restaurants_data = {\n",
    "#     'name': 'Curry Fishhead Restaurant',\n",
    "#     'delivery_charge': 0.2,\n",
    "#     'address': '147 Upper Paya Lebar Rd',\n",
    "#     'postal_code': '534849',\n",
    "# }\n",
    "# create_restaurants_response = requests.post(url=restaurant_details_url, data=create_restaurants_data, headers=headers).json()\n",
    "# create_restaurants_response"
   ]
  },
  {
   "attachments": {},
   "cell_type": "markdown",
   "metadata": {},
   "source": [
    "Get Restaurant Details"
   ]
  },
  {
   "cell_type": "code",
   "execution_count": 7,
   "metadata": {},
   "outputs": [
    {
     "data": {
      "text/plain": [
       "{'count': 4,\n",
       " 'next': None,\n",
       " 'previous': None,\n",
       " 'results': [{'id': 1,\n",
       "   'active': True,\n",
       "   'owner': 1,\n",
       "   'name': 'Burger Restaurant',\n",
       "   'delivery_charge': 0.4,\n",
       "   'address': '12 Kallang Ave, #01-24 Aperia Mall',\n",
       "   'postal_code': '339511',\n",
       "   'items': [{'id': 1,\n",
       "     'active': True,\n",
       "     'name': 'Beef',\n",
       "     'restaurant': 1,\n",
       "     'item_type': [1, 6],\n",
       "     'price': 7.5},\n",
       "    {'id': 2,\n",
       "     'active': True,\n",
       "     'name': 'Chicken',\n",
       "     'restaurant': 1,\n",
       "     'item_type': [1, 5],\n",
       "     'price': 5.5},\n",
       "    {'id': 28,\n",
       "     'active': True,\n",
       "     'name': 'Fish',\n",
       "     'restaurant': 1,\n",
       "     'item_type': [1, 7],\n",
       "     'price': 6.5}]},\n",
       "  {'id': 2,\n",
       "   'active': True,\n",
       "   'owner': 1,\n",
       "   'name': 'Chicken Restaurant',\n",
       "   'delivery_charge': 0.5,\n",
       "   'address': '56 New Upper Changi Rd, #01-1316',\n",
       "   'postal_code': '461056',\n",
       "   'items': [{'id': 31,\n",
       "     'active': True,\n",
       "     'name': 'Crispy Chicken',\n",
       "     'restaurant': 2,\n",
       "     'item_type': [3, 5],\n",
       "     'price': 10.5}]},\n",
       "  {'id': 3,\n",
       "   'active': True,\n",
       "   'owner': 1,\n",
       "   'name': 'Fried Rice Restaurant',\n",
       "   'delivery_charge': 0.4,\n",
       "   'address': '38A Beo Cres, #01-71',\n",
       "   'postal_code': '169982',\n",
       "   'items': []},\n",
       "  {'id': 4,\n",
       "   'active': True,\n",
       "   'owner': 2,\n",
       "   'name': 'Curry Fishhead Restaurant',\n",
       "   'delivery_charge': 0.4,\n",
       "   'address': '147 Upper Paya Lebar Rd',\n",
       "   'postal_code': '534849',\n",
       "   'items': []}]}"
      ]
     },
     "execution_count": 7,
     "metadata": {},
     "output_type": "execute_result"
    }
   ],
   "source": [
    "get_restaurants_params = {\n",
    "    # 'id': 1,\n",
    "    # 'active': True,\n",
    "}\n",
    "get_restaurants_response = requests.get(url=restaurant_details_url, params=get_restaurants_params, headers=headers).json()\n",
    "get_restaurants_response"
   ]
  },
  {
   "attachments": {},
   "cell_type": "markdown",
   "metadata": {},
   "source": [
    "Update Restaurant Details"
   ]
  },
  {
   "cell_type": "code",
   "execution_count": 8,
   "metadata": {},
   "outputs": [],
   "source": [
    "# update_restaurant_id = 1\n",
    "# update_restaurant_data = requests.get(url=restaurant_details_url, params={'id':update_restaurant_id}, headers=headers).json()['results'][0]\n",
    "# update_restaurant_data.update({\n",
    "#     'active': True,\n",
    "#     'delivery_charge': 0.4,\n",
    "# })\n",
    "# update_restaurant_response = requests.put(url=update_restaurant_url + f'{update_restaurant_id}/', data=update_restaurant_data, headers=headers).json()\n",
    "# update_restaurant_response"
   ]
  },
  {
   "attachments": {},
   "cell_type": "markdown",
   "metadata": {},
   "source": [
    "Get Item Types"
   ]
  },
  {
   "cell_type": "code",
   "execution_count": 9,
   "metadata": {},
   "outputs": [
    {
     "data": {
      "text/plain": [
       "{'count': 7,\n",
       " 'next': None,\n",
       " 'previous': None,\n",
       " 'results': [{'id': 1, 'name': 'Burger'},\n",
       "  {'id': 2, 'name': 'Rice'},\n",
       "  {'id': 3, 'name': 'Fried'},\n",
       "  {'id': 4, 'name': 'Curry'},\n",
       "  {'id': 5, 'name': 'Chicken'},\n",
       "  {'id': 6, 'name': 'Beef'},\n",
       "  {'id': 7, 'name': 'Fish'}]}"
      ]
     },
     "execution_count": 9,
     "metadata": {},
     "output_type": "execute_result"
    }
   ],
   "source": [
    "item_types_response = requests.get(url=item_types_url, headers=headers).json()\n",
    "item_types_response"
   ]
  },
  {
   "attachments": {},
   "cell_type": "markdown",
   "metadata": {},
   "source": [
    "Create Item Types"
   ]
  },
  {
   "cell_type": "code",
   "execution_count": 10,
   "metadata": {},
   "outputs": [],
   "source": [
    "# create_item_type_data = {\n",
    "#     'name': 'Fish',\n",
    "# }\n",
    "# create_item_type_response = requests.post(url=item_types_url, data=create_item_type_data, headers=headers).json()\n",
    "# create_item_type_response"
   ]
  },
  {
   "attachments": {},
   "cell_type": "markdown",
   "metadata": {},
   "source": [
    "Get Item Details"
   ]
  },
  {
   "cell_type": "code",
   "execution_count": 11,
   "metadata": {},
   "outputs": [
    {
     "data": {
      "text/plain": [
       "{'count': 1,\n",
       " 'next': None,\n",
       " 'previous': None,\n",
       " 'results': [{'id': 31,\n",
       "   'active': True,\n",
       "   'name': 'Crispy Chicken',\n",
       "   'restaurant': 2,\n",
       "   'item_type': [3, 5],\n",
       "   'price': 10.5}]}"
      ]
     },
     "execution_count": 11,
     "metadata": {},
     "output_type": "execute_result"
    }
   ],
   "source": [
    "item_details_params = {\n",
    "    'item_id': 31,\n",
    "    # 'restaurant_id': 2,\n",
    "}\n",
    "item_details_response = requests.get(url=item_details_url, params=item_details_params, headers=headers).json()\n",
    "item_details_response"
   ]
  },
  {
   "attachments": {},
   "cell_type": "markdown",
   "metadata": {},
   "source": [
    "Create New Item"
   ]
  },
  {
   "cell_type": "code",
   "execution_count": 12,
   "metadata": {},
   "outputs": [],
   "source": [
    "# create_item_data = {\n",
    "#     'name': 'Crispy Chicken',\n",
    "#     'restaurant': 2,\n",
    "#     'item_type': [1, 7],\n",
    "#     'price': 10.50\n",
    "# }\n",
    "# create_item_response = requests.post(url=item_details_url, data=create_item_data, headers=headers).json()\n",
    "# create_item_response"
   ]
  },
  {
   "attachments": {},
   "cell_type": "markdown",
   "metadata": {},
   "source": [
    "Update Item Details"
   ]
  },
  {
   "cell_type": "code",
   "execution_count": 13,
   "metadata": {},
   "outputs": [
    {
     "data": {
      "text/plain": [
       "{'Error': 'You are not the owner of this restaurant'}"
      ]
     },
     "execution_count": 13,
     "metadata": {},
     "output_type": "execute_result"
    }
   ],
   "source": [
    "# item_id = 31\n",
    "# update_item_data = requests.get(url=item_details_url, params={'item_id': item_id}, headers=headers).json()['results'][0]\n",
    "# update_item_data.update({\n",
    "#     'price': 10.5,\n",
    "#     'item_type': [3, 5],\n",
    "# })\n",
    "# update_item_response = requests.put(url=update_items_url + f'{item_id}/', data=update_item_data, headers=headers).json()\n",
    "# update_item_response"
   ]
  },
  {
   "cell_type": "markdown",
   "metadata": {},
   "source": []
  },
  {
   "cell_type": "code",
   "execution_count": null,
   "metadata": {},
   "outputs": [],
   "source": []
  }
 ],
 "metadata": {
  "kernelspec": {
   "display_name": "venv",
   "language": "python",
   "name": "python3"
  },
  "language_info": {
   "codemirror_mode": {
    "name": "ipython",
    "version": 3
   },
   "file_extension": ".py",
   "mimetype": "text/x-python",
   "name": "python",
   "nbconvert_exporter": "python",
   "pygments_lexer": "ipython3",
   "version": "3.10.5"
  },
  "orig_nbformat": 4
 },
 "nbformat": 4,
 "nbformat_minor": 2
}
